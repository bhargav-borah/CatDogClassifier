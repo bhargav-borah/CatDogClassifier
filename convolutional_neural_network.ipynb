{
 "cells": [
  {
   "cell_type": "markdown",
   "metadata": {
    "id": "3DR-eO17geWu"
   },
   "source": [
    "# Convolutional Neural Network"
   ]
  },
  {
   "cell_type": "markdown",
   "metadata": {
    "id": "EMefrVPCg-60"
   },
   "source": [
    "### Importing the libraries"
   ]
  },
  {
   "cell_type": "code",
   "execution_count": 1,
   "metadata": {
    "id": "B_5M1X55QBwM"
   },
   "outputs": [],
   "source": [
    "import tensorflow as tf\n",
    "from keras.preprocessing.image import ImageDataGenerator"
   ]
  },
  {
   "cell_type": "code",
   "execution_count": 2,
   "metadata": {
    "colab": {
     "base_uri": "https://localhost:8080/",
     "height": 36
    },
    "id": "ev4aIl61QUzu",
    "outputId": "69a6fe3f-150a-4de9-f937-9c9b3b631b30"
   },
   "outputs": [
    {
     "data": {
      "text/plain": [
       "'2.9.1'"
      ]
     },
     "execution_count": 2,
     "metadata": {},
     "output_type": "execute_result"
    }
   ],
   "source": [
    "tf.__version__"
   ]
  },
  {
   "cell_type": "markdown",
   "metadata": {
    "id": "oxQxCBWyoGPE"
   },
   "source": [
    "## Data Preprocessing"
   ]
  },
  {
   "cell_type": "markdown",
   "metadata": {
    "id": "MvE-heJNo3GG"
   },
   "source": [
    "### Preprocessing the Training set"
   ]
  },
  {
   "cell_type": "code",
   "execution_count": 3,
   "metadata": {
    "id": "HUDaazjxQeaP"
   },
   "outputs": [
    {
     "name": "stdout",
     "output_type": "stream",
     "text": [
      "Found 8000 images belonging to 2 classes.\n"
     ]
    }
   ],
   "source": [
    "train_datagen = ImageDataGenerator(rescale = 1./255,\n",
    "                                   shear_range = 0.2,\n",
    "                                   zoom_range = 0.2,\n",
    "                                   horizontal_flip = True)\n",
    "training_set = train_datagen.flow_from_directory('dataset/training_set',\n",
    "                                                 target_size = (64, 64),\n",
    "                                                 batch_size = 32,\n",
    "                                                 class_mode = 'binary')"
   ]
  },
  {
   "cell_type": "markdown",
   "metadata": {
    "id": "mrCMmGw9pHys"
   },
   "source": [
    "### Preprocessing the Test set"
   ]
  },
  {
   "cell_type": "code",
   "execution_count": 4,
   "metadata": {
    "id": "ROdeFIQcULcg"
   },
   "outputs": [
    {
     "name": "stdout",
     "output_type": "stream",
     "text": [
      "Found 2000 images belonging to 2 classes.\n"
     ]
    }
   ],
   "source": [
    "test_datagen = ImageDataGenerator(rescale = 1./255)\n",
    "test_set = test_datagen.flow_from_directory('dataset/test_set',\n",
    "                                            target_size = (64, 64),\n",
    "                                            batch_size = 32,\n",
    "                                            class_mode = 'binary')"
   ]
  },
  {
   "cell_type": "markdown",
   "metadata": {
    "id": "af8O4l90gk7B"
   },
   "source": [
    "## Building the CNN"
   ]
  },
  {
   "cell_type": "markdown",
   "metadata": {
    "id": "ces1gXY2lmoX"
   },
   "source": [
    "### Initialising the CNN"
   ]
  },
  {
   "cell_type": "code",
   "execution_count": 5,
   "metadata": {
    "id": "DeOV4v3FXuOr"
   },
   "outputs": [],
   "source": [
    "cnn = tf.keras.models.Sequential()"
   ]
  },
  {
   "cell_type": "markdown",
   "metadata": {
    "id": "u5YJj_XMl5LF"
   },
   "source": [
    "### Step 1 - Convolution"
   ]
  },
  {
   "cell_type": "code",
   "execution_count": 6,
   "metadata": {
    "id": "oBxL5_nrX-qS"
   },
   "outputs": [],
   "source": [
    "cnn.add(tf.keras.layers.Conv2D(filters=32, kernel_size=3, activation='relu', input_shape=[64, 64, 3]))"
   ]
  },
  {
   "cell_type": "markdown",
   "metadata": {
    "id": "tf87FpvxmNOJ"
   },
   "source": [
    "### Step 2 - Pooling"
   ]
  },
  {
   "cell_type": "code",
   "execution_count": 7,
   "metadata": {
    "id": "DYrx-XxKYzjx"
   },
   "outputs": [],
   "source": [
    "cnn.add(tf.keras.layers.MaxPool2D(pool_size=2, strides=2))"
   ]
  },
  {
   "cell_type": "markdown",
   "metadata": {
    "id": "xaTOgD8rm4mU"
   },
   "source": [
    "### Adding a second convolutional layer"
   ]
  },
  {
   "cell_type": "code",
   "execution_count": 8,
   "metadata": {
    "id": "HN7Cr7WCY0dA"
   },
   "outputs": [],
   "source": [
    "cnn.add(tf.keras.layers.Conv2D(filters=32, kernel_size=3, activation='relu'))\n",
    "cnn.add(tf.keras.layers.MaxPool2D(pool_size=2, strides=2))"
   ]
  },
  {
   "cell_type": "markdown",
   "metadata": {
    "id": "tmiEuvTunKfk"
   },
   "source": [
    "### Step 3 - Flattening"
   ]
  },
  {
   "cell_type": "code",
   "execution_count": 9,
   "metadata": {
    "id": "IAvFh9A6Y4Ul"
   },
   "outputs": [],
   "source": [
    "cnn.add(tf.keras.layers.Flatten())"
   ]
  },
  {
   "cell_type": "markdown",
   "metadata": {
    "id": "dAoSECOm203v"
   },
   "source": [
    "### Step 4 - Full Connection"
   ]
  },
  {
   "cell_type": "code",
   "execution_count": 10,
   "metadata": {
    "id": "Jc0ul10bY7el"
   },
   "outputs": [],
   "source": [
    "cnn.add(tf.keras.layers.Dense(units=128, activation='relu'))"
   ]
  },
  {
   "cell_type": "markdown",
   "metadata": {
    "id": "yTldFvbX28Na"
   },
   "source": [
    "### Step 5 - Output Layer"
   ]
  },
  {
   "cell_type": "code",
   "execution_count": 11,
   "metadata": {
    "id": "SW8VcakzY97l"
   },
   "outputs": [],
   "source": [
    "cnn.add(tf.keras.layers.Dense(units=1, activation='sigmoid'))"
   ]
  },
  {
   "cell_type": "markdown",
   "metadata": {
    "id": "D6XkI90snSDl"
   },
   "source": [
    "## Training the CNN"
   ]
  },
  {
   "cell_type": "markdown",
   "metadata": {
    "id": "vfrFQACEnc6i"
   },
   "source": [
    "### Compiling the CNN"
   ]
  },
  {
   "cell_type": "code",
   "execution_count": 12,
   "metadata": {
    "id": "hY8WvHu5beYT"
   },
   "outputs": [],
   "source": [
    "cnn.compile(optimizer = 'adam', loss = 'binary_crossentropy', metrics = ['accuracy'])"
   ]
  },
  {
   "cell_type": "markdown",
   "metadata": {
    "id": "ehS-v3MIpX2h"
   },
   "source": [
    "### Training the CNN on the Training set and evaluating it on the Test set"
   ]
  },
  {
   "cell_type": "code",
   "execution_count": 13,
   "metadata": {
    "id": "9J0XpqLobhDa"
   },
   "outputs": [
    {
     "name": "stdout",
     "output_type": "stream",
     "text": [
      "Epoch 1/25\n",
      "250/250 [==============================] - 193s 766ms/step - loss: 0.6795 - accuracy: 0.5727 - val_loss: 0.6557 - val_accuracy: 0.6225\n",
      "Epoch 2/25\n",
      "250/250 [==============================] - 57s 226ms/step - loss: 0.6472 - accuracy: 0.6277 - val_loss: 0.6198 - val_accuracy: 0.6580\n",
      "Epoch 3/25\n",
      "250/250 [==============================] - 65s 258ms/step - loss: 0.6003 - accuracy: 0.6754 - val_loss: 0.5864 - val_accuracy: 0.6925\n",
      "Epoch 4/25\n",
      "250/250 [==============================] - 65s 261ms/step - loss: 0.5636 - accuracy: 0.7044 - val_loss: 0.5320 - val_accuracy: 0.7395\n",
      "Epoch 5/25\n",
      "250/250 [==============================] - 62s 247ms/step - loss: 0.5357 - accuracy: 0.7330 - val_loss: 0.5189 - val_accuracy: 0.7475\n",
      "Epoch 6/25\n",
      "250/250 [==============================] - 58s 233ms/step - loss: 0.5043 - accuracy: 0.7525 - val_loss: 0.5415 - val_accuracy: 0.7310\n",
      "Epoch 7/25\n",
      "250/250 [==============================] - 57s 229ms/step - loss: 0.4865 - accuracy: 0.7634 - val_loss: 0.5429 - val_accuracy: 0.7410\n",
      "Epoch 8/25\n",
      "250/250 [==============================] - 65s 258ms/step - loss: 0.4746 - accuracy: 0.7669 - val_loss: 0.5102 - val_accuracy: 0.7610\n",
      "Epoch 9/25\n",
      "250/250 [==============================] - 71s 284ms/step - loss: 0.4579 - accuracy: 0.7850 - val_loss: 0.4917 - val_accuracy: 0.7750\n",
      "Epoch 10/25\n",
      "250/250 [==============================] - 77s 306ms/step - loss: 0.4378 - accuracy: 0.7997 - val_loss: 0.4670 - val_accuracy: 0.7790\n",
      "Epoch 11/25\n",
      "250/250 [==============================] - 73s 291ms/step - loss: 0.4263 - accuracy: 0.8071 - val_loss: 0.4762 - val_accuracy: 0.7865\n",
      "Epoch 12/25\n",
      "250/250 [==============================] - 66s 266ms/step - loss: 0.3988 - accuracy: 0.8149 - val_loss: 0.4810 - val_accuracy: 0.7800\n",
      "Epoch 13/25\n",
      "250/250 [==============================] - 67s 267ms/step - loss: 0.3910 - accuracy: 0.8185 - val_loss: 0.4840 - val_accuracy: 0.7860\n",
      "Epoch 14/25\n",
      "250/250 [==============================] - 66s 263ms/step - loss: 0.3784 - accuracy: 0.8257 - val_loss: 0.4848 - val_accuracy: 0.7825\n",
      "Epoch 15/25\n",
      "250/250 [==============================] - 71s 285ms/step - loss: 0.3625 - accuracy: 0.8393 - val_loss: 0.4836 - val_accuracy: 0.7815\n",
      "Epoch 16/25\n",
      "250/250 [==============================] - 68s 272ms/step - loss: 0.3419 - accuracy: 0.8484 - val_loss: 0.5363 - val_accuracy: 0.7690\n",
      "Epoch 17/25\n",
      "250/250 [==============================] - 65s 260ms/step - loss: 0.3256 - accuracy: 0.8536 - val_loss: 0.4875 - val_accuracy: 0.7885\n",
      "Epoch 18/25\n",
      "250/250 [==============================] - 65s 260ms/step - loss: 0.3093 - accuracy: 0.8656 - val_loss: 0.5293 - val_accuracy: 0.7885\n",
      "Epoch 19/25\n",
      "250/250 [==============================] - 65s 261ms/step - loss: 0.2977 - accuracy: 0.8710 - val_loss: 0.5067 - val_accuracy: 0.7885\n",
      "Epoch 20/25\n",
      "250/250 [==============================] - 65s 261ms/step - loss: 0.2783 - accuracy: 0.8785 - val_loss: 0.5027 - val_accuracy: 0.7880\n",
      "Epoch 21/25\n",
      "250/250 [==============================] - 65s 259ms/step - loss: 0.2609 - accuracy: 0.8923 - val_loss: 0.5413 - val_accuracy: 0.7935\n",
      "Epoch 22/25\n",
      "250/250 [==============================] - 65s 260ms/step - loss: 0.2437 - accuracy: 0.8990 - val_loss: 0.5256 - val_accuracy: 0.7985\n",
      "Epoch 23/25\n",
      "250/250 [==============================] - 66s 262ms/step - loss: 0.2400 - accuracy: 0.9000 - val_loss: 0.5534 - val_accuracy: 0.7895\n",
      "Epoch 24/25\n",
      "250/250 [==============================] - 65s 261ms/step - loss: 0.2246 - accuracy: 0.9086 - val_loss: 0.5556 - val_accuracy: 0.7950\n",
      "Epoch 25/25\n",
      "250/250 [==============================] - 64s 257ms/step - loss: 0.2123 - accuracy: 0.9119 - val_loss: 0.5699 - val_accuracy: 0.7805\n"
     ]
    },
    {
     "data": {
      "text/plain": [
       "<keras.callbacks.History at 0x21b56985280>"
      ]
     },
     "execution_count": 13,
     "metadata": {},
     "output_type": "execute_result"
    }
   ],
   "source": [
    "cnn.fit(x = training_set, validation_data = test_set, epochs = 25)"
   ]
  },
  {
   "cell_type": "markdown",
   "metadata": {
    "id": "U3PZasO0006Z"
   },
   "source": [
    "## Making a single prediction"
   ]
  },
  {
   "cell_type": "code",
   "execution_count": 18,
   "metadata": {
    "id": "4pX-q4eUcsaN"
   },
   "outputs": [],
   "source": [
    "import numpy as np\n",
    "import keras.utils as image"
   ]
  },
  {
   "cell_type": "code",
   "execution_count": 19,
   "metadata": {},
   "outputs": [
    {
     "name": "stdout",
     "output_type": "stream",
     "text": [
      "1/1 [==============================] - 0s 135ms/step\n"
     ]
    }
   ],
   "source": [
    "test_image = image.load_img('dataset/test_set/dogs/dog.4002.jpg', target_size = (64, 64))\n",
    "test_image = image.img_to_array(test_image)\n",
    "test_image = np.expand_dims(test_image, axis = 0)\n",
    "result = cnn.predict(test_image)\n",
    "training_set.class_indices\n",
    "if result[0][0] == 1:\n",
    "  prediction = 'dog'\n",
    "else:\n",
    "  prediction = 'cat'"
   ]
  },
  {
   "cell_type": "code",
   "execution_count": 20,
   "metadata": {},
   "outputs": [
    {
     "name": "stdout",
     "output_type": "stream",
     "text": [
      "dog\n"
     ]
    }
   ],
   "source": [
    "print(prediction)"
   ]
  }
 ],
 "metadata": {
  "colab": {
   "provenance": []
  },
  "kernelspec": {
   "display_name": "Python 3 (ipykernel)",
   "language": "python",
   "name": "python3"
  },
  "language_info": {
   "codemirror_mode": {
    "name": "ipython",
    "version": 3
   },
   "file_extension": ".py",
   "mimetype": "text/x-python",
   "name": "python",
   "nbconvert_exporter": "python",
   "pygments_lexer": "ipython3",
   "version": "3.9.13"
  }
 },
 "nbformat": 4,
 "nbformat_minor": 1
}
